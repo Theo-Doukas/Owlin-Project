{
  "nbformat": 4,
  "nbformat_minor": 0,
  "metadata": {
    "colab": {
      "provenance": []
    },
    "kernelspec": {
      "name": "python3",
      "display_name": "Python 3"
    },
    "language_info": {
      "name": "python"
    }
  },
  "cells": [
    {
      "cell_type": "code",
      "execution_count": 2,
      "metadata": {
        "id": "u_Cqr1fWUkZk",
        "colab": {
          "base_uri": "https://localhost:8080/"
        },
        "outputId": "5c579960-12f6-4646-c48a-89983ff2416f"
      },
      "outputs": [
        {
          "output_type": "stream",
          "name": "stdout",
          "text": [
            "Mounted at /content/drive\n"
          ]
        }
      ],
      "source": [
        "# Import necessary libraries\n",
        "import pandas as pd\n",
        "import numpy as np\n",
        "from nltk.tokenize import word_tokenize\n",
        "from nltk.corpus import stopwords\n",
        "from gensim import corpora\n",
        "from gensim.models import LdaModel\n",
        "import nltk\n",
        "\n",
        "import pandas as pd\n",
        "from google.colab import drive\n",
        "drive.mount('/content/drive')\n",
        "\n",
        "\n",
        "\n"
      ]
    },
    {
      "cell_type": "code",
      "source": [
        "# Step 1: Load your dataset\n",
        "file1 = '/content/drive/MyDrive/Owlin Data Challenge Data (1).csv'\n",
        "df = pd.read_csv(file1)  # Replace with your actual dataset file path\n",
        "\n",
        "# Check the first few rows\n",
        "print(df.head())"
      ],
      "metadata": {
        "colab": {
          "base_uri": "https://localhost:8080/"
        },
        "id": "d5Ny-FoQMUD3",
        "outputId": "1ef23f80-af6c-4fba-d762-a9c8e9e9d1bb"
      },
      "execution_count": 3,
      "outputs": [
        {
          "output_type": "stream",
          "name": "stdout",
          "text": [
            "       date                                             header  \\\n",
            "0  8-5-2024  Legal dispute between CrowdStrike and Delta Ai...   \n",
            "1  8-5-2024  Cognizant to expand presence in Hyderabad with...   \n",
            "2  8-5-2024  Apple’s AI in iOS 18 highlights fraud emails b...   \n",
            "3  8-5-2024  CrowdStrike responds to Delta accusations: mis...   \n",
            "4  8-5-2024  Justice orders Amazon Fort and ORIZON partners...   \n",
            "\n",
            "                                            abstract  \\\n",
            "0  The recent dispute between cybersecurity compa...   \n",
            "1  Global IT major Cognizant will expand its oper...   \n",
            "2  Apple Intelligence can’t distinguish between a...   \n",
            "3  The cybersecurity company notes that Delta has...   \n",
            "4  If any of these measures are disregarded, the ...   \n",
            "\n",
            "                                                 url original language  \\\n",
            "0  https://www.klamm.de/news/rechtsstreit-zwische...                de   \n",
            "1  https://www.prokerala.com/news/articles/a15534...                en   \n",
            "2  https://www.tecmundo.com.br/software/287821-ia...                pt   \n",
            "3  https://www.hdblog.it/windows/articoli/n589350...                it   \n",
            "4  https://folharondoniense.com.br/justica-conced...                pt   \n",
            "\n",
            "                    domain  \n",
            "0                 klamm.de  \n",
            "1            prokerala.com  \n",
            "2          tecmundo.com.br  \n",
            "3                hdblog.it  \n",
            "4  folharondoniense.com.br  \n"
          ]
        }
      ]
    },
    {
      "cell_type": "code",
      "source": [
        "nltk.download('punkt')\n",
        "nltk.download('stopwords')\n"
      ],
      "metadata": {
        "id": "uk4GCXsaMXw6",
        "colab": {
          "base_uri": "https://localhost:8080/"
        },
        "outputId": "6e0082f8-45bf-402b-deb4-595f6d24a38b"
      },
      "execution_count": 4,
      "outputs": [
        {
          "output_type": "stream",
          "name": "stderr",
          "text": [
            "[nltk_data] Downloading package punkt to /root/nltk_data...\n",
            "[nltk_data]   Unzipping tokenizers/punkt.zip.\n",
            "[nltk_data] Downloading package stopwords to /root/nltk_data...\n",
            "[nltk_data]   Unzipping corpora/stopwords.zip.\n"
          ]
        },
        {
          "output_type": "execute_result",
          "data": {
            "text/plain": [
              "True"
            ]
          },
          "metadata": {},
          "execution_count": 4
        }
      ]
    },
    {
      "cell_type": "code",
      "source": [
        "def preprocess_text(text):\n",
        "    stop_words = set(stopwords.words('english'))\n",
        "    tokens = word_tokenize(text.lower())\n",
        "    return [word for word in tokens if word.isalnum() and word not in stop_words]\n"
      ],
      "metadata": {
        "id": "o_hjv1S3T7Dy"
      },
      "execution_count": 5,
      "outputs": []
    },
    {
      "cell_type": "code",
      "source": [
        "df['tokens'] = df['abstract'].apply(preprocess_text)\n"
      ],
      "metadata": {
        "id": "wf4ZaWNfUFCY"
      },
      "execution_count": 6,
      "outputs": []
    },
    {
      "cell_type": "code",
      "source": [
        "dictionary = corpora.Dictionary(df['tokens'])\n",
        "corpus = [dictionary.doc2bow(tokens) for tokens in df['tokens']]\n"
      ],
      "metadata": {
        "id": "7AzCsPxRVFZN"
      },
      "execution_count": 7,
      "outputs": []
    },
    {
      "cell_type": "code",
      "source": [
        "# Step 3: Topic Modeling\n",
        "# Create Dictionary and Corpus for LDA\n",
        "dictionary = corpora.Dictionary(df['tokens'])\n",
        "corpus = [dictionary.doc2bow(tokens) for tokens in df['tokens']]\n",
        "\n",
        "# Define the number of topics for the LDA model\n",
        "num_topics = 5  # Adjust this number to experiment with more or fewer topics\n",
        "\n",
        "# LDA Model\n",
        "lda_model = LdaModel(corpus, num_topics=num_topics, id2word=dictionary, passes=15)\n"
      ],
      "metadata": {
        "id": "wWnhHWpMVUt4"
      },
      "execution_count": 8,
      "outputs": []
    },
    {
      "cell_type": "code",
      "source": [
        "# Display the topics\n",
        "print(\"\\nIdentified Topics:\")\n",
        "topics = lda_model.print_topics(num_words=5)  # Display top 5 words for each topic\n",
        "for idx, topic in topics:\n",
        "    print(f'Topic {idx}: {topic}')\n",
        "\n",
        "# Step 4: Identify Financial Risks Using Keywords\n",
        "# Define keywords and companies\n",
        "financial_keywords = ['bankruptcy', 'insolvency', 'liquidation', 'fine', 'penalty',\n",
        "                      'settlement', 'volatility', 'stock drop', 'earnings miss',\n",
        "                      'investigation', 'compliance issue', 'regulation change']\n",
        "\n",
        "companies = ['Apple', 'CrowdStrike Holdings Incorporated', 'Amazon', 'Youtube',\n",
        "             'Amazon Web Services', 'PricewaterhouseCoopers LLP', 'Bloomberg L.P.',\n",
        "             'Alphabet', 'Zoom Video Communications', 'Blackstone Group L.P.']"
      ],
      "metadata": {
        "colab": {
          "base_uri": "https://localhost:8080/"
        },
        "id": "A-jsPcb1WmQn",
        "outputId": "a50d9cb3-a9cc-4206-ef6f-55a06236a681"
      },
      "execution_count": 9,
      "outputs": [
        {
          "output_type": "stream",
          "name": "stdout",
          "text": [
            "\n",
            "Identified Topics:\n",
            "Topic 0: 0.020*\"apple\" + 0.009*\"google\" + 0.007*\"first\" + 0.006*\"iphone\" + 0.006*\"billion\"\n",
            "Topic 1: 0.011*\"google\" + 0.009*\"company\" + 0.007*\"new\" + 0.006*\"crowdstrike\" + 0.006*\"2024\"\n",
            "Topic 2: 0.007*\"company\" + 0.007*\"ai\" + 0.006*\"first\" + 0.005*\"2024\" + 0.005*\"global\"\n",
            "Topic 3: 0.012*\"company\" + 0.008*\"billion\" + 0.006*\"data\" + 0.006*\"million\" + 0.005*\"crowdstrike\"\n",
            "Topic 4: 0.008*\"company\" + 0.007*\"cybersecurity\" + 0.007*\"crowdstrike\" + 0.007*\"security\" + 0.005*\"instagram\"\n"
          ]
        }
      ]
    },
    {
      "cell_type": "code",
      "source": [
        "# Function to check for financial risks\n",
        "def contains_financial_risk(text):\n",
        "    return any(keyword in text.lower() for keyword in financial_keywords)\n",
        "\n",
        "# Function to check for companies\n",
        "def contains_company(text):\n",
        "    return any(company.lower() in text.lower() for company in companies)"
      ],
      "metadata": {
        "id": "8N5Hq1n8WrOh"
      },
      "execution_count": 10,
      "outputs": []
    },
    {
      "cell_type": "code",
      "source": [
        "# Filter relevant articles\n",
        "df['Financial_Risk'] = df['abstract'].apply(contains_financial_risk)\n",
        "df['Related_Company'] = df['abstract'].apply(contains_company)\n",
        "\n",
        "# Get final articles with financial risks\n",
        "relevant_articles = df[df['Financial_Risk'] & df['Related_Company']]"
      ],
      "metadata": {
        "id": "BzkHVndmWzTB"
      },
      "execution_count": 11,
      "outputs": []
    },
    {
      "cell_type": "code",
      "source": [
        "# Step 5: Analyze and Summarize Findings\n",
        "print(\"\\nRelevant Articles with Financial Risks:\")\n",
        "print(relevant_articles[['header', 'abstract']])\n",
        "\n",
        "# Step 6: (Optional) Topic Distribution\n",
        "def get_topic_distribution(corpus, model):\n",
        "    topic_distribution = []\n",
        "    for doc in corpus:\n",
        "        topic_probabilities = model.get_document_topics(doc)\n",
        "        topic_distribution.append(topic_probabilities)\n",
        "    return topic_distribution"
      ],
      "metadata": {
        "colab": {
          "base_uri": "https://localhost:8080/"
        },
        "id": "ddFItTsbW3OF",
        "outputId": "cd2d6d67-c1c5-4518-d773-c8cee19c7f06"
      },
      "execution_count": 12,
      "outputs": [
        {
          "output_type": "stream",
          "name": "stdout",
          "text": [
            "\n",
            "Relevant Articles with Financial Risks:\n",
            "                                                 header  \\\n",
            "90    Man Who Allegedly Decapitated Dad, Shared to Y...   \n",
            "337   Amazon says consumers cautious, forecasts reve...   \n",
            "395          Competition: Apple under pressure in Spain   \n",
            "500     Russia fines Google, TikTok over banned content   \n",
            "595   Apple's AI Advancements On Hold In Europe: Reg...   \n",
            "739   Did you not pay taxes? Italy launches second i...   \n",
            "755   Apple Delays AI Feature Rollout to October for...   \n",
            "848      Susan Wojcicki: Former YouTube Boss Dies at 56   \n",
            "993   Apple Revises EU App Store After 'Anti-Steerin...   \n",
            "1005  Investors Pull $2.2 Billion From ARKK In 2024 ...   \n",
            "1018  Apple revises DMA compliance for App Store lin...   \n",
            "1019  Apple revises DMA compliance for App Store lin...   \n",
            "1209  India antitrust watchdog reportedly finds Appl...   \n",
            "1243  “Google is a monopoly. U.S. Judgment May Chang...   \n",
            "1294  CCI seeks Apple's reply on investigation repor...   \n",
            "1309  Apple's future after charges against Google fo...   \n",
            "1328  That Google is a monopoly can be bad news for ...   \n",
            "1381  HOT TAKE: Federal Court Rules Google Guilty; M...   \n",
            "1395  RKN named the amount of fines for TikTok, YouT...   \n",
            "1410  Key Wall St indices close with strong drops am...   \n",
            "\n",
            "                                               abstract  \n",
            "90    After having previously been determined to hav...  \n",
            "337   The after hours stock drop came despite second...  \n",
            "395   If Spain is known for its oranges, Apple is on...  \n",
            "500   MOSCOW (Reuters) : Russia fined Alphabet's (GO...  \n",
            "595   Apple has delayed the European launch of its n...  \n",
            "739   The authorities of Milan suspected of tax evas...  \n",
            "755   Editor's Note: In a strategic move to ensure t...  \n",
            "848   In today's fast growing world of technology so...  \n",
            "993   Apple Revises EU App Store After 'Anti-Steerin...  \n",
            "1005  Investors Pull $2.2 Billion From ARKK In 2024 ...  \n",
            "1018  Apple has further revised its compliance plan ...  \n",
            "1019  Apple has further revised its compliance plan ...  \n",
            "1209  India's antitrust watchdog may be nearing the ...  \n",
            "1243  “Google is a monopoly on online searches.” To ...  \n",
            "1294  The supplementary investigation report by the ...  \n",
            "1309  The ruling against Google ruled on Monday, whi...  \n",
            "1328  Google has suffered a historic defeat, at leas...  \n",
            "1381  By Liz Miller You don't have to read far into ...  \n",
            "1395  On August 6, TikTok, YouTube, Pinterest, Twitc...  \n",
            "1410  Key Wall St indices close with strong drops am...  \n"
          ]
        }
      ]
    },
    {
      "cell_type": "code",
      "source": [
        "# Get topic distribution for each article\n",
        "topic_distribution = get_topic_distribution(corpus, lda_model)\n",
        "\n",
        "# Add topic distribution to the DataFrame\n",
        "df['Topic_Distribution'] = topic_distribution\n",
        "\n",
        "# Analyze which topics are most related to financial risks\n",
        "# (This assumes you identified specific topics related to financial risks)\n",
        "financial_topics = [0, 1]  # Adjust based on your topic analysis\n",
        "\n",
        "# Filter articles related to the identified financial risk topics\n",
        "financial_articles = df[df['Topic_Distribution'].apply(lambda x: any(i[0] in financial_topics for i in x))]\n",
        "\n",
        "print(\"\\nArticles Related to Financial Risk Topics:\")\n",
        "print(financial_articles[['header', 'abstract']])"
      ],
      "metadata": {
        "colab": {
          "base_uri": "https://localhost:8080/"
        },
        "id": "SDSuChCBW74V",
        "outputId": "b4137373-f31f-45fd-e7a4-b677beac3990"
      },
      "execution_count": 13,
      "outputs": [
        {
          "output_type": "stream",
          "name": "stdout",
          "text": [
            "\n",
            "Articles Related to Financial Risk Topics:\n",
            "                                                 header  \\\n",
            "0     Legal dispute between CrowdStrike and Delta Ai...   \n",
            "1     Cognizant to expand presence in Hyderabad with...   \n",
            "2     Apple’s AI in iOS 18 highlights fraud emails b...   \n",
            "3     CrowdStrike responds to Delta accusations: mis...   \n",
            "4     Justice orders Amazon Fort and ORIZON partners...   \n",
            "...                                                 ...   \n",
            "1458  Wells Fargo discloses another round of anti-mo...   \n",
            "1460  CrowdStrike’s harsh letter in response to Delt...   \n",
            "1461  Snowflake Breach Litigation Snowballs, Names T...   \n",
            "1462  Apple Unveils Homomorphic Encryption Package f...   \n",
            "1463  Will Bell Canada's Latest Acquisitions Turn a ...   \n",
            "\n",
            "                                               abstract  \n",
            "0     The recent dispute between cybersecurity compa...  \n",
            "1     Global IT major Cognizant will expand its oper...  \n",
            "2     Apple Intelligence can’t distinguish between a...  \n",
            "3     The cybersecurity company notes that Delta has...  \n",
            "4     If any of these measures are disregarded, the ...  \n",
            "...                                                 ...  \n",
            "1458  Wells Fargo & Co. is facing federal investigat...  \n",
            "1460  The cybersecurity company refuted claims by th...  \n",
            "1461  More than 50 class actions have been filed ove...  \n",
            "1462  Apple's open-source \"swift-homomorphic-encrypt...  \n",
            "1463  This IDC Market Note reviews Bell Canada's acq...  \n",
            "\n",
            "[1035 rows x 2 columns]\n"
          ]
        }
      ]
    },
    {
      "cell_type": "code",
      "source": [
        "import matplotlib.pyplot as plt\n",
        "\n",
        "# List of companies\n",
        "companies = ['Apple', 'CrowdStrike Holdings Incorporated', 'Amazon', 'Youtube', 'Amazon Web Services',\n",
        "             'PricewaterhouseCoopers LLP', 'Bloomberg L.P.', 'Alphabet', 'Zoom Video Communications', 'Blackstone Group L.P']\n",
        "\n",
        "# Initialize a dictionary to count mentions\n",
        "company_mentions = {company: 0 for company in companies}\n",
        "\n",
        "# Count how many times each company is mentioned in the filtered articles\n",
        "for index, row in df.iterrows():\n",
        "    for company in companies:\n",
        "        if company.lower() in row['abstract'].lower() or company.lower() in row['header'].lower():\n",
        "            company_mentions[company] += 1\n",
        "\n",
        "# Prepare data for bar chart\n",
        "company_names = list(company_mentions.keys())\n",
        "mentions_count = list(company_mentions.values())\n",
        "\n",
        "# Plot the bar chart\n",
        "plt.figure(figsize=(10, 6))\n",
        "plt.barh(company_names, mentions_count, color='skyblue')\n",
        "plt.xlabel('Number of Articles Mentioning Company')\n",
        "plt.title('Number of Articles Mentioning Each Company')\n",
        "plt.tight_layout()\n",
        "plt.show()\n"
      ],
      "metadata": {
        "colab": {
          "base_uri": "https://localhost:8080/",
          "height": 607
        },
        "id": "Ma2qMjR6EV_9",
        "outputId": "386fee00-dcf4-4fd9-b4cc-3d836b9e7d6e"
      },
      "execution_count": 15,
      "outputs": [
        {
          "output_type": "display_data",
          "data": {
            "text/plain": [
              "<Figure size 1000x600 with 1 Axes>"
            ],
            "image/png": "[encoded data removed]"
          },
          "metadata": {}
        }
      ]
    },
    {
      "cell_type": "code",
      "source": [
        "\n"
      ],
      "metadata": {
        "id": "eNky7TTAFrIH"
      },
      "execution_count": 17,
      "outputs": []
    }
  ]
}